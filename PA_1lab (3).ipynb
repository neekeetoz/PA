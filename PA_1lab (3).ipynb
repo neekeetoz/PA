{
 "cells": [
  {
   "cell_type": "code",
   "execution_count": 1,
   "id": "a805d069",
   "metadata": {},
   "outputs": [],
   "source": [
    "import numpy as np\n",
    "import seaborn as sns"
   ]
  },
  {
   "cell_type": "code",
   "execution_count": 2,
   "id": "d7b16481",
   "metadata": {},
   "outputs": [],
   "source": [
    "# количество пространственных узлов в пластине по оси х\n",
    "Nx = 10\n",
    "# количество пространственных узлов в пластине по оси y\n",
    "Ny = 10\n",
    "# окончание по времени\n",
    "t_end = 1.0\n",
    "# длина пластины\n",
    "L = 0.5\n",
    "# толщина пластины\n",
    "H = 0.5\n",
    "# коэффициент теплопроводности материала пластины\n",
    "lamda = 46.0\n",
    "# температура на границе х = 0 области решения\n",
    "Th = 80.0\n",
    "# температура на границе х = L области решения\n",
    "Tc = 30.0\n",
    "# начальная температура\n",
    "T0 = 5.0"
   ]
  },
  {
   "cell_type": "code",
   "execution_count": 60,
   "id": "244bb3b4",
   "metadata": {},
   "outputs": [
    {
     "data": {
      "text/plain": [
       "<AxesSubplot:>"
      ]
     },
     "execution_count": 60,
     "metadata": {},
     "output_type": "execute_result"
    },
    {
     "data": {
      "image/png": "[encoded data removed]",
      "text/plain": [
       "<Figure size 432x288 with 2 Axes>"
      ]
     },
     "metadata": {
      "needs_background": "light"
     },
     "output_type": "display_data"
    }
   ],
   "source": [
    "# аналитическое решение\n",
    "def solution(x, y, t):\n",
    "    return np.sin(x) * np.sin(y) * np.exp(-2 * t)\n",
    "\n",
    "xy = np.meshgrid(np.linspace(0, L, Nx + 1), np.linspace(0, H, Ny + 1))\n",
    "layer0 = solution(xy[0], xy[1], 0)\n",
    "sns.heatmap(layer0)"
   ]
  },
  {
   "cell_type": "code",
   "execution_count": 4,
   "id": "d8f082a8",
   "metadata": {},
   "outputs": [],
   "source": [
    "# расчетные шаги сетки по пространственным координатам\n",
    "hx = L / (Nx - 1)\n",
    "hy = H / (Ny - 1)"
   ]
  },
  {
   "cell_type": "code",
   "execution_count": 5,
   "id": "69e9cae3",
   "metadata": {},
   "outputs": [],
   "source": [
    "# расчетный шаг сетки по времени\n",
    "tau = t_end / 100"
   ]
  },
  {
   "cell_type": "code",
   "execution_count": 7,
   "id": "3fea855e",
   "metadata": {
    "scrolled": true
   },
   "outputs": [
    {
     "name": "stdout",
     "output_type": "stream",
     "text": [
      "5.0\n",
      "5.0\n",
      "5.0\n",
      "5.0\n",
      "5.0\n",
      "5.0\n",
      "5.0\n",
      "5.0\n",
      "5.0\n",
      "5.0\n",
      "5.0\n",
      "5.0\n",
      "5.0\n",
      "5.0\n",
      "5.0\n",
      "5.0\n",
      "5.0\n",
      "5.0\n",
      "5.0\n",
      "5.0\n",
      "5.0\n",
      "5.0\n",
      "5.0\n",
      "5.0\n",
      "5.0\n",
      "5.0\n",
      "5.0\n",
      "5.0\n",
      "5.0\n",
      "5.0\n",
      "5.0\n",
      "5.0\n",
      "5.0\n",
      "5.0\n",
      "5.0\n",
      "5.0\n",
      "5.0\n",
      "5.0\n",
      "5.0\n",
      "5.0\n",
      "5.0\n",
      "5.0\n",
      "5.0\n",
      "5.0\n",
      "5.0\n",
      "5.0\n",
      "5.0\n",
      "5.0\n",
      "5.0\n",
      "5.0\n",
      "5.0\n",
      "5.0\n",
      "5.0\n",
      "5.0\n",
      "5.0\n",
      "5.0\n",
      "5.0\n",
      "5.0\n",
      "5.0\n",
      "5.0\n",
      "5.0\n",
      "5.0\n",
      "5.0\n",
      "5.0\n",
      "5.0\n",
      "5.0\n",
      "5.0\n",
      "5.0\n",
      "5.0\n",
      "5.0\n",
      "5.0\n",
      "5.0\n",
      "5.0\n",
      "5.0\n",
      "5.0\n",
      "5.0\n",
      "5.0\n",
      "5.0\n",
      "5.0\n",
      "5.0\n",
      "5.0\n",
      "5.0\n",
      "5.0\n",
      "5.0\n",
      "5.0\n",
      "5.0\n",
      "5.0\n",
      "5.0\n",
      "5.0\n",
      "5.0\n",
      "5.0\n",
      "5.0\n",
      "5.0\n",
      "5.0\n",
      "5.0\n",
      "5.0\n",
      "5.0\n",
      "5.0\n",
      "5.0\n",
      "5.0\n"
     ]
    }
   ],
   "source": [
    "# поле температуры в начальный момент времени  \n",
    "T = np.full((Nx + 1, Ny + 1), T0)\n",
    "for i in range(1, Nx + 1):\n",
    "    for j in range(1, Ny + 1): \n",
    "        print(T[i][j])"
   ]
  },
  {
   "cell_type": "code",
   "execution_count": 19,
   "id": "dd9416f7",
   "metadata": {},
   "outputs": [],
   "source": [
    "alfa = np.zeros(((Nx + 1) * (Ny + 1)))\n",
    "beta = np.zeros(((Nx + 1) * (Ny + 1)))\n",
    "# увеличиваем переменную времени на шаг τ\n",
    "time = 0.0\n",
    "while time < t_end:\n",
    "    time = time + tau\n",
    "    # решаем СЛАУ в направлении оси Ох для определения поля температуры на промежуточном временном слое\n",
    "    # начальные прогоночные коэффициенты на основе левого граничного условия\n",
    "    for j in range(1, Ny + 1): \n",
    "        alfa[1] = 0\n",
    "        beta[1] = Th\n",
    "        \n",
    "        for i in range(2, Nx):\n",
    "        # ai, bi, ci, fi – коэффициенты канонического представления СЛАУ с трехдиагональной матрицей\n",
    "            ai = lamda / hx**2\n",
    "            bi = 2 * lamda / hx**2 + 1 / tau\n",
    "            ci = lamda / hx**2\n",
    "            fi = - T[i][j] / tau\n",
    "            # alfa[i], beta[i] – прогоночные коэффициенты\n",
    "            alfa[i] = ai / (bi - ci * alfa[i - 1])\n",
    "            beta[i] = (ci * beta[i - 1] - fi) / (bi - ci * alfa[i - 1])\n",
    "    \n",
    "        # значение температуры на правой границе на основе правого граничного условия\n",
    "        T[Nx][j] = Tc\n",
    "    \n",
    "        # используя соотношение определяем неизвестное поле температуры на промежуточном временном слое\n",
    "        for i in range(Nx - 1, 0, -1):\n",
    "            T[i][j] = alfa[i] * T[i + 1][j] + beta[i]\n",
    "        \n",
    "    # СЛАУ в направлении оси Оу для определения поля температуры на целом временном слое\n",
    "    for i in range(2, Nx):\n",
    "        alfa[1] = 2 * lamda * tau / (2 * lamda * tau + hy**2) # уточнить насчёт 2 в числителе!!!\n",
    "        beta[1] = hy**2 * T[i][1] / (2 * lamda * tau + hy**2)\n",
    "        \n",
    "        # цикл с параметром для определения прогоночных коэффициентов\n",
    "        for j in range(2, Ny):\n",
    "        # ai, bi, ci, fi – коэффициенты канонического представления СЛАУ с трехдиагональной матрицей\n",
    "            ai = lamda / hy**2\n",
    "            bi = 2 * lamda / hy**2 + 1/tau\n",
    "            ci = lamda / hy**2\n",
    "            fi = - T[i][j] / tau\n",
    "            # alfa[j], beta[j] – прогоночные коэффициенты\n",
    "            alfa[j] = ai / (bi - ci * alfa[j - 1])\n",
    "            beta[j] = (ci * beta[j - 1] - fi) / (bi - ci * alfa[j - 1])\n",
    "        \n",
    "        T[i][Ny] = (2 * lamda * tau * beta[Ny - 1] + hy**2 * T[i][Ny]) / (2 * lamda * tau *(1 - alfa[Ny - 1]) + hy**2)\n",
    "    \n",
    "        for j in range(Ny - 1, 0, -1): \n",
    "            T[i][j] = alfa[j] * T[i][j + 1] + beta[j] "
   ]
  },
  {
   "cell_type": "code",
   "execution_count": 55,
   "id": "b88edd7d",
   "metadata": {
    "scrolled": true
   },
   "outputs": [
    {
     "name": "stdout",
     "output_type": "stream",
     "text": [
      "80.0\n",
      "80.0\n",
      "80.0\n",
      "80.0\n",
      "80.0\n",
      "80.0\n",
      "80.0\n",
      "80.0\n",
      "80.0\n",
      "80.0\n",
      "74.44444444444477\n",
      "74.44444444444477\n",
      "74.44444444444477\n",
      "74.44444444444478\n",
      "74.44444444444478\n",
      "74.4444444444448\n",
      "74.44444444444478\n",
      "74.44444444444478\n",
      "74.44444444444478\n",
      "74.44444444444478\n",
      "68.8888888888892\n",
      "68.8888888888892\n",
      "68.8888888888892\n",
      "68.8888888888892\n",
      "68.88888888888921\n",
      "68.88888888888921\n",
      "68.88888888888921\n",
      "68.88888888888921\n",
      "68.88888888888921\n",
      "68.88888888888921\n",
      "63.333333333333634\n",
      "63.333333333333634\n",
      "63.333333333333634\n",
      "63.33333333333364\n",
      "63.33333333333365\n",
      "63.333333333333655\n",
      "63.333333333333655\n",
      "63.33333333333366\n",
      "63.33333333333366\n",
      "63.33333333333366\n",
      "57.77777777777807\n",
      "57.77777777777807\n",
      "57.77777777777807\n",
      "57.77777777777807\n",
      "57.77777777777808\n",
      "57.777777777778084\n",
      "57.777777777778084\n",
      "57.777777777778084\n",
      "57.777777777778084\n",
      "57.777777777778084\n",
      "52.22222222222247\n",
      "52.22222222222247\n",
      "52.22222222222247\n",
      "52.22222222222248\n",
      "52.222222222222484\n",
      "52.22222222222249\n",
      "52.22222222222249\n",
      "52.22222222222249\n",
      "52.22222222222249\n",
      "52.22222222222249\n",
      "46.66666666666688\n",
      "46.66666666666688\n",
      "46.66666666666688\n",
      "46.66666666666688\n",
      "46.666666666666885\n",
      "46.666666666666885\n",
      "46.666666666666885\n",
      "46.66666666666689\n",
      "46.66666666666689\n",
      "46.66666666666689\n",
      "41.11111111111132\n",
      "41.11111111111132\n",
      "41.11111111111132\n",
      "41.11111111111133\n",
      "41.11111111111133\n",
      "41.11111111111133\n",
      "41.11111111111133\n",
      "41.11111111111133\n",
      "41.11111111111133\n",
      "41.11111111111133\n",
      "35.555555555555735\n",
      "35.555555555555735\n",
      "35.555555555555735\n",
      "35.555555555555735\n",
      "35.555555555555735\n",
      "35.555555555555735\n",
      "35.555555555555735\n",
      "35.555555555555735\n",
      "35.555555555555735\n",
      "35.555555555555735\n",
      "30.0\n",
      "30.0\n",
      "30.0\n",
      "30.0\n",
      "30.0\n",
      "30.0\n",
      "30.0\n",
      "30.0\n",
      "30.0\n",
      "30.0\n"
     ]
    }
   ],
   "source": [
    "import matplotlib.pyplot as plt\n",
    "for i in range(1, Nx + 1):\n",
    "    for j in range(1, Ny + 1):\n",
    "        print(T[i][j])   "
   ]
  },
  {
   "cell_type": "code",
   "execution_count": 23,
   "id": "8413934c",
   "metadata": {
    "scrolled": true
   },
   "outputs": [
    {
     "data": {
      "text/plain": [
       "<AxesSubplot:>"
      ]
     },
     "execution_count": 23,
     "metadata": {},
     "output_type": "execute_result"
    },
    {
     "data": {
      "image/png": "[encoded data removed]",
      "text/plain": [
       "<Figure size 432x288 with 2 Axes>"
      ]
     },
     "metadata": {
      "needs_background": "light"
     },
     "output_type": "display_data"
    }
   ],
   "source": [
    "sns.heatmap(T)"
   ]
  },
  {
   "cell_type": "code",
   "execution_count": 41,
   "id": "d6a3d7d5",
   "metadata": {},
   "outputs": [
    {
     "data": {
      "text/plain": [
       "array([[0.     , 0.     , 0.     , 0.     , 0.     , 0.     , 0.     ,\n",
       "        0.     , 0.     , 0.     , 0.     ],\n",
       "       [0.     , 0.0025 , 0.00499, 0.00747, 0.00993, 0.01237, 0.01477,\n",
       "        0.01714, 0.01946, 0.02174, 0.02396],\n",
       "       [0.     , 0.00499, 0.00997, 0.01492, 0.01983, 0.0247 , 0.0295 ,\n",
       "        0.03423, 0.03888, 0.04342, 0.04786],\n",
       "       [0.     , 0.00747, 0.01492, 0.02233, 0.02969, 0.03697, 0.04416,\n",
       "        0.05124, 0.05819, 0.065  , 0.07164],\n",
       "       [0.     , 0.00993, 0.01983, 0.02969, 0.03947, 0.04915, 0.05871,\n",
       "        0.06812, 0.07737, 0.08641, 0.09525],\n",
       "       [0.     , 0.01237, 0.0247 , 0.03697, 0.04915, 0.06121, 0.07311,\n",
       "        0.08483, 0.09634, 0.10761, 0.11861],\n",
       "       [0.     , 0.01477, 0.0295 , 0.04416, 0.05871, 0.07311, 0.08733,\n",
       "        0.10133, 0.11508, 0.12854, 0.14168],\n",
       "       [0.     , 0.01714, 0.03423, 0.05124, 0.06812, 0.08483, 0.10133,\n",
       "        0.11758, 0.13353, 0.14915, 0.16439],\n",
       "       [0.     , 0.01946, 0.03888, 0.05819, 0.07737, 0.09634, 0.11508,\n",
       "        0.13353, 0.15165, 0.16938, 0.1867 ],\n",
       "       [0.     , 0.02174, 0.04342, 0.065  , 0.08641, 0.10761, 0.12854,\n",
       "        0.14915, 0.16938, 0.1892 , 0.20853],\n",
       "       [0.     , 0.02396, 0.04786, 0.07164, 0.09525, 0.11861, 0.14168,\n",
       "        0.16439, 0.1867 , 0.20853, 0.22985]])"
      ]
     },
     "execution_count": 41,
     "metadata": {},
     "output_type": "execute_result"
    }
   ],
   "source": [
    "np.round(layer0, 5)"
   ]
  },
  {
   "cell_type": "code",
   "execution_count": 42,
   "id": "40508b7a",
   "metadata": {},
   "outputs": [
    {
     "data": {
      "text/plain": [
       "array([[ 5.     ,  0.     ,  0.     ,  0.     ,  0.     ,  0.     ,\n",
       "         0.     ,  0.     ,  0.     ,  0.     ,  0.     ],\n",
       "       [ 5.     , 80.     , 80.     , 80.     , 80.     , 80.     ,\n",
       "        80.     , 80.     , 80.     , 80.     , 80.     ],\n",
       "       [ 0.     , 74.44444, 74.44444, 74.44444, 74.44444, 74.44444,\n",
       "        74.44444, 74.44444, 74.44444, 74.44444, 74.44444],\n",
       "       [ 0.     , 68.88889, 68.88889, 68.88889, 68.88889, 68.88889,\n",
       "        68.88889, 68.88889, 68.88889, 68.88889, 68.88889],\n",
       "       [ 0.     , 63.33333, 63.33333, 63.33333, 63.33333, 63.33333,\n",
       "        63.33333, 63.33333, 63.33333, 63.33333, 63.33333],\n",
       "       [ 0.     , 57.77778, 57.77778, 57.77778, 57.77778, 57.77778,\n",
       "        57.77778, 57.77778, 57.77778, 57.77778, 57.77778],\n",
       "       [ 0.     , 52.22222, 52.22222, 52.22222, 52.22222, 52.22222,\n",
       "        52.22222, 52.22222, 52.22222, 52.22222, 52.22222],\n",
       "       [ 0.     , 46.66667, 46.66667, 46.66667, 46.66667, 46.66667,\n",
       "        46.66667, 46.66667, 46.66667, 46.66667, 46.66667],\n",
       "       [ 0.     , 41.11111, 41.11111, 41.11111, 41.11111, 41.11111,\n",
       "        41.11111, 41.11111, 41.11111, 41.11111, 41.11111],\n",
       "       [ 0.     , 35.55556, 35.55556, 35.55556, 35.55556, 35.55556,\n",
       "        35.55556, 35.55556, 35.55556, 35.55556, 35.55556],\n",
       "       [ 5.     , 30.     , 30.     , 30.     , 30.     , 30.     ,\n",
       "        30.     , 30.     , 30.     , 30.     , 30.     ]])"
      ]
     },
     "execution_count": 42,
     "metadata": {},
     "output_type": "execute_result"
    }
   ],
   "source": [
    "np.round(T, 5)"
   ]
  },
  {
   "cell_type": "code",
   "execution_count": 43,
   "id": "594951aa",
   "metadata": {},
   "outputs": [
    {
     "data": {
      "text/plain": [
       "79.99750208263902"
      ]
     },
     "execution_count": 43,
     "metadata": {},
     "output_type": "execute_result"
    }
   ],
   "source": [
    "np.abs(layer0 - T).max()"
   ]
  },
  {
   "cell_type": "code",
   "execution_count": null,
   "id": "40c9f206",
   "metadata": {},
   "outputs": [],
   "source": []
  }
 ],
 "metadata": {
  "kernelspec": {
   "display_name": "Python 3",
   "language": "python",
   "name": "python3"
  },
  "language_info": {
   "codemirror_mode": {
    "name": "ipython",
    "version": 3
   },
   "file_extension": ".py",
   "mimetype": "text/x-python",
   "name": "python",
   "nbconvert_exporter": "python",
   "pygments_lexer": "ipython3",
   "version": "3.8.8"
  }
 },
 "nbformat": 4,
 "nbformat_minor": 5
}
